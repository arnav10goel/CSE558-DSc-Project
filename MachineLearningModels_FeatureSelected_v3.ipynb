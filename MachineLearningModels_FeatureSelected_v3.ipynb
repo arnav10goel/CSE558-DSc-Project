{
 "cells": [
  {
   "cell_type": "code",
   "execution_count": 1,
   "metadata": {},
   "outputs": [],
   "source": [
    "import numpy as np\n",
    "import pandas as pd\n",
    "import matplotlib.pyplot as plt\n",
    "import seaborn as sns\n",
    "from sklearn.metrics import accuracy_score, confusion_matrix, classification_report\n",
    "from sklearn.model_selection import train_test_split\n",
    "from sklearn.preprocessing import StandardScaler\n",
    "from sklearn.linear_model import LogisticRegression\n",
    "from sklearn.ensemble import RandomForestClassifier, GradientBoostingClassifier\n",
    "from sklearn.naive_bayes import GaussianNB"
   ]
  },
  {
   "cell_type": "code",
   "execution_count": 2,
   "metadata": {},
   "outputs": [
    {
     "data": {
      "text/html": [
       "<div>\n",
       "<style scoped>\n",
       "    .dataframe tbody tr th:only-of-type {\n",
       "        vertical-align: middle;\n",
       "    }\n",
       "\n",
       "    .dataframe tbody tr th {\n",
       "        vertical-align: top;\n",
       "    }\n",
       "\n",
       "    .dataframe thead th {\n",
       "        text-align: right;\n",
       "    }\n",
       "</style>\n",
       "<table border=\"1\" class=\"dataframe\">\n",
       "  <thead>\n",
       "    <tr style=\"text-align: right;\">\n",
       "      <th></th>\n",
       "      <th>cap-diameter</th>\n",
       "      <th>cap-shape</th>\n",
       "      <th>cap-surface</th>\n",
       "      <th>cap-color</th>\n",
       "      <th>gill-attachment</th>\n",
       "      <th>gill-spacing</th>\n",
       "      <th>gill-color</th>\n",
       "      <th>stem-height</th>\n",
       "      <th>stem-width</th>\n",
       "      <th>stem-color</th>\n",
       "      <th>ring-type</th>\n",
       "      <th>habitat</th>\n",
       "    </tr>\n",
       "  </thead>\n",
       "  <tbody>\n",
       "    <tr>\n",
       "      <th>0</th>\n",
       "      <td>1.619462</td>\n",
       "      <td>6</td>\n",
       "      <td>2</td>\n",
       "      <td>6</td>\n",
       "      <td>2</td>\n",
       "      <td>0</td>\n",
       "      <td>10</td>\n",
       "      <td>3.076705</td>\n",
       "      <td>0.492293</td>\n",
       "      <td>11</td>\n",
       "      <td>2</td>\n",
       "      <td>0</td>\n",
       "    </tr>\n",
       "    <tr>\n",
       "      <th>1</th>\n",
       "      <td>1.873982</td>\n",
       "      <td>6</td>\n",
       "      <td>2</td>\n",
       "      <td>6</td>\n",
       "      <td>2</td>\n",
       "      <td>0</td>\n",
       "      <td>10</td>\n",
       "      <td>3.385311</td>\n",
       "      <td>0.601900</td>\n",
       "      <td>11</td>\n",
       "      <td>2</td>\n",
       "      <td>0</td>\n",
       "    </tr>\n",
       "    <tr>\n",
       "      <th>2</th>\n",
       "      <td>1.393432</td>\n",
       "      <td>6</td>\n",
       "      <td>2</td>\n",
       "      <td>6</td>\n",
       "      <td>2</td>\n",
       "      <td>0</td>\n",
       "      <td>10</td>\n",
       "      <td>3.328931</td>\n",
       "      <td>0.557061</td>\n",
       "      <td>11</td>\n",
       "      <td>2</td>\n",
       "      <td>0</td>\n",
       "    </tr>\n",
       "    <tr>\n",
       "      <th>3</th>\n",
       "      <td>1.412426</td>\n",
       "      <td>2</td>\n",
       "      <td>3</td>\n",
       "      <td>1</td>\n",
       "      <td>2</td>\n",
       "      <td>0</td>\n",
       "      <td>10</td>\n",
       "      <td>2.726555</td>\n",
       "      <td>0.381690</td>\n",
       "      <td>11</td>\n",
       "      <td>5</td>\n",
       "      <td>0</td>\n",
       "    </tr>\n",
       "    <tr>\n",
       "      <th>4</th>\n",
       "      <td>1.501699</td>\n",
       "      <td>6</td>\n",
       "      <td>3</td>\n",
       "      <td>6</td>\n",
       "      <td>2</td>\n",
       "      <td>0</td>\n",
       "      <td>10</td>\n",
       "      <td>2.952075</td>\n",
       "      <td>0.503254</td>\n",
       "      <td>11</td>\n",
       "      <td>5</td>\n",
       "      <td>0</td>\n",
       "    </tr>\n",
       "  </tbody>\n",
       "</table>\n",
       "</div>"
      ],
      "text/plain": [
       "   cap-diameter  cap-shape  cap-surface  cap-color  gill-attachment  \\\n",
       "0      1.619462          6            2          6                2   \n",
       "1      1.873982          6            2          6                2   \n",
       "2      1.393432          6            2          6                2   \n",
       "3      1.412426          2            3          1                2   \n",
       "4      1.501699          6            3          6                2   \n",
       "\n",
       "   gill-spacing  gill-color  stem-height  stem-width  stem-color  ring-type  \\\n",
       "0             0          10     3.076705    0.492293          11          2   \n",
       "1             0          10     3.385311    0.601900          11          2   \n",
       "2             0          10     3.328931    0.557061          11          2   \n",
       "3             0          10     2.726555    0.381690          11          5   \n",
       "4             0          10     2.952075    0.503254          11          5   \n",
       "\n",
       "   habitat  \n",
       "0        0  \n",
       "1        0  \n",
       "2        0  \n",
       "3        0  \n",
       "4        0  "
      ]
     },
     "execution_count": 2,
     "metadata": {},
     "output_type": "execute_result"
    }
   ],
   "source": [
    "# Read the CSV file\n",
    "df_features = pd.read_csv('Data_Feature_Selected_v3.csv')\n",
    "df_features.head()"
   ]
  },
  {
   "cell_type": "code",
   "execution_count": 3,
   "metadata": {},
   "outputs": [
    {
     "name": "stdout",
     "output_type": "stream",
     "text": [
      "(61069, 12)\n"
     ]
    }
   ],
   "source": [
    "# Read the labels CSV file\n",
    "print(df_features.shape)\n",
    "df_labels = pd.read_csv('Labels.csv')"
   ]
  },
  {
   "cell_type": "code",
   "execution_count": 4,
   "metadata": {},
   "outputs": [
    {
     "data": {
      "text/plain": [
       "array(['p', 'e'], dtype=object)"
      ]
     },
     "execution_count": 4,
     "metadata": {},
     "output_type": "execute_result"
    }
   ],
   "source": [
    "# Unique values in the labels\n",
    "df_labels['class'].unique()"
   ]
  },
  {
   "cell_type": "code",
   "execution_count": 5,
   "metadata": {},
   "outputs": [],
   "source": [
    "# Retrieve the features and labels\n",
    "X = df_features.values\n",
    "y = df_labels.values\n",
    "\n",
    "# Replace labels with 0 and 1\n",
    "y[y == 'p'] = 0\n",
    "y[y == 'e'] = 1\n",
    "\n",
    "y = [o[0] for o in y]"
   ]
  },
  {
   "cell_type": "code",
   "execution_count": 6,
   "metadata": {},
   "outputs": [],
   "source": [
    "# Scale the features\n",
    "scaler = StandardScaler()\n",
    "X = scaler.fit_transform(X)\n",
    "\n",
    "# Split the data into train and test sets\n",
    "X_train, X_test, y_train, y_test = train_test_split(X, y, test_size=0.25, random_state=42)"
   ]
  },
  {
   "cell_type": "code",
   "execution_count": 7,
   "metadata": {},
   "outputs": [
    {
     "name": "stdout",
     "output_type": "stream",
     "text": [
      "Logistic Regression Accuracy: 0.622609379093529\n",
      "[[6407 2080]\n",
      " [3682 3099]]\n",
      "              precision    recall  f1-score   support\n",
      "\n",
      "           0       0.64      0.75      0.69      8487\n",
      "           1       0.60      0.46      0.52      6781\n",
      "\n",
      "    accuracy                           0.62     15268\n",
      "   macro avg       0.62      0.61      0.60     15268\n",
      "weighted avg       0.62      0.62      0.61     15268\n",
      "\n"
     ]
    }
   ],
   "source": [
    "# Logistic Regression\n",
    "log_reg = LogisticRegression(max_iter=1000)\n",
    "\n",
    "# Fit the model\n",
    "log_reg.fit(X_train, y_train)\n",
    "\n",
    "# Predict the labels\n",
    "y_pred_test = log_reg.predict(X_test)\n",
    "\n",
    "# Accuracy score\n",
    "print(f\"Logistic Regression Accuracy: {accuracy_score(y_test, y_pred_test)}\")\n",
    "\n",
    "# Confusion matrix\n",
    "print(confusion_matrix(y_test, y_pred_test))\n",
    "\n",
    "# Classification report\n",
    "print(classification_report(y_test, y_pred_test))"
   ]
  },
  {
   "cell_type": "code",
   "execution_count": 8,
   "metadata": {},
   "outputs": [
    {
     "name": "stdout",
     "output_type": "stream",
     "text": [
      "Random Forest Classifier Accuracy: 0.9821194655488603\n",
      "[[8240  247]\n",
      " [  26 6755]]\n",
      "              precision    recall  f1-score   support\n",
      "\n",
      "           0       1.00      0.97      0.98      8487\n",
      "           1       0.96      1.00      0.98      6781\n",
      "\n",
      "    accuracy                           0.98     15268\n",
      "   macro avg       0.98      0.98      0.98     15268\n",
      "weighted avg       0.98      0.98      0.98     15268\n",
      "\n"
     ]
    }
   ],
   "source": [
    "# Random Forest Classifier\n",
    "rfc = RandomForestClassifier(max_depth=10, n_estimators=100)\n",
    "\n",
    "# Fit the model\n",
    "rfc.fit(X_train, y_train)\n",
    "\n",
    "# Predict the labels\n",
    "y_pred_test = rfc.predict(X_test)\n",
    "\n",
    "# Accuracy score\n",
    "print(f\"Random Forest Classifier Accuracy: {accuracy_score(y_test, y_pred_test)}\")\n",
    "\n",
    "# Confusion matrix\n",
    "print(confusion_matrix(y_test, y_pred_test))\n",
    "\n",
    "# Classification report\n",
    "print(classification_report(y_test, y_pred_test))"
   ]
  },
  {
   "cell_type": "code",
   "execution_count": 9,
   "metadata": {},
   "outputs": [
    {
     "name": "stdout",
     "output_type": "stream",
     "text": [
      "Gradient Boosting Classifier Accuracy: 0.9993450353680902\n",
      "[[8479    8]\n",
      " [   2 6779]]\n",
      "              precision    recall  f1-score   support\n",
      "\n",
      "           0       1.00      1.00      1.00      8487\n",
      "           1       1.00      1.00      1.00      6781\n",
      "\n",
      "    accuracy                           1.00     15268\n",
      "   macro avg       1.00      1.00      1.00     15268\n",
      "weighted avg       1.00      1.00      1.00     15268\n",
      "\n"
     ]
    }
   ],
   "source": [
    "# Gradient Boosting Classifier\n",
    "gbc = GradientBoostingClassifier(max_depth=10, n_estimators=100)\n",
    "\n",
    "# Fit the model\n",
    "gbc.fit(X_train, y_train)\n",
    "\n",
    "# Predict the labels\n",
    "y_pred_test = gbc.predict(X_test)\n",
    "\n",
    "# Accuracy score\n",
    "print(f\"Gradient Boosting Classifier Accuracy: {accuracy_score(y_test, y_pred_test)}\")\n",
    "\n",
    "# Confusion matrix\n",
    "print(confusion_matrix(y_test, y_pred_test))\n",
    "\n",
    "# Classification report\n",
    "print(classification_report(y_test, y_pred_test))"
   ]
  },
  {
   "cell_type": "code",
   "execution_count": 10,
   "metadata": {},
   "outputs": [
    {
     "name": "stdout",
     "output_type": "stream",
     "text": [
      "Naive Bayes Classifier Accuracy: 0.590319622740372\n",
      "[[6508 1979]\n",
      " [4276 2505]]\n",
      "              precision    recall  f1-score   support\n",
      "\n",
      "           0       0.60      0.77      0.68      8487\n",
      "           1       0.56      0.37      0.44      6781\n",
      "\n",
      "    accuracy                           0.59     15268\n",
      "   macro avg       0.58      0.57      0.56     15268\n",
      "weighted avg       0.58      0.59      0.57     15268\n",
      "\n"
     ]
    }
   ],
   "source": [
    "# Naive Bayes Classifier\n",
    "gnb = GaussianNB()\n",
    "\n",
    "# Fit the model\n",
    "gnb.fit(X_train, y_train)\n",
    "\n",
    "# Predict the labels\n",
    "y_pred_test = gnb.predict(X_test)\n",
    "\n",
    "# Accuracy score\n",
    "print(f\"Naive Bayes Classifier Accuracy: {accuracy_score(y_test, y_pred_test)}\")\n",
    "\n",
    "# Confusion matrix\n",
    "print(confusion_matrix(y_test, y_pred_test))\n",
    "\n",
    "# Classification report\n",
    "print(classification_report(y_test, y_pred_test))"
   ]
  },
  {
   "cell_type": "code",
   "execution_count": 11,
   "metadata": {},
   "outputs": [
    {
     "name": "stdout",
     "output_type": "stream",
     "text": [
      "SVM Classifier Accuracy: 0.9599161645271156\n",
      "[[8073  414]\n",
      " [ 198 6583]]\n",
      "              precision    recall  f1-score   support\n",
      "\n",
      "           0       0.98      0.95      0.96      8487\n",
      "           1       0.94      0.97      0.96      6781\n",
      "\n",
      "    accuracy                           0.96     15268\n",
      "   macro avg       0.96      0.96      0.96     15268\n",
      "weighted avg       0.96      0.96      0.96     15268\n",
      "\n"
     ]
    }
   ],
   "source": [
    "# SVM Classifier\n",
    "from sklearn.svm import SVC\n",
    "svc = SVC()\n",
    "\n",
    "# Fit the model\n",
    "svc.fit(X_train, y_train)\n",
    "\n",
    "# Predict the labels\n",
    "y_pred_test = svc.predict(X_test)\n",
    "\n",
    "# Accuracy score\n",
    "print(f\"SVM Classifier Accuracy: {accuracy_score(y_test, y_pred_test)}\")\n",
    "\n",
    "# Confusion matrix\n",
    "print(confusion_matrix(y_test, y_pred_test))\n",
    "\n",
    "# Classification report\n",
    "print(classification_report(y_test, y_pred_test))"
   ]
  },
  {
   "cell_type": "code",
   "execution_count": 12,
   "metadata": {},
   "outputs": [
    {
     "name": "stderr",
     "output_type": "stream",
     "text": [
      "c:\\Users\\siya1\\AppData\\Local\\Programs\\Python\\Python310\\lib\\site-packages\\sklearn\\neighbors\\_classification.py:228: FutureWarning: Unlike other reduction functions (e.g. `skew`, `kurtosis`), the default behavior of `mode` typically preserves the axis it acts along. In SciPy 1.11.0, this behavior will change: the default value of `keepdims` will become False, the `axis` over which the statistic is taken will be eliminated, and the value None will no longer be accepted. Set `keepdims` to True or False to avoid this warning.\n",
      "  mode, _ = stats.mode(_y[neigh_ind, k], axis=1)\n"
     ]
    },
    {
     "name": "stdout",
     "output_type": "stream",
     "text": [
      "KNN Classifier Accuracy: 0.9988210636625622\n",
      "[[8473   14]\n",
      " [   4 6777]]\n",
      "              precision    recall  f1-score   support\n",
      "\n",
      "           0       1.00      1.00      1.00      8487\n",
      "           1       1.00      1.00      1.00      6781\n",
      "\n",
      "    accuracy                           1.00     15268\n",
      "   macro avg       1.00      1.00      1.00     15268\n",
      "weighted avg       1.00      1.00      1.00     15268\n",
      "\n"
     ]
    }
   ],
   "source": [
    "# K-nearest neighbors classifier\n",
    "from sklearn.neighbors import KNeighborsClassifier\n",
    "\n",
    "knn = KNeighborsClassifier(n_neighbors=5)\n",
    "\n",
    "# Fit the model\n",
    "knn.fit(X_train, y_train)\n",
    "\n",
    "# Predict the labels\n",
    "y_pred_test = knn.predict(X_test)\n",
    "\n",
    "# Accuracy score\n",
    "print(f\"KNN Classifier Accuracy: {accuracy_score(y_test, y_pred_test)}\")\n",
    "\n",
    "# Confusion matrix\n",
    "print(confusion_matrix(y_test, y_pred_test))\n",
    "\n",
    "# Classification report\n",
    "print(classification_report(y_test, y_pred_test))"
   ]
  },
  {
   "cell_type": "markdown",
   "metadata": {},
   "source": [
    "### Principal Component Analysis"
   ]
  },
  {
   "cell_type": "code",
   "execution_count": 13,
   "metadata": {},
   "outputs": [
    {
     "data": {
      "image/png": "[encoded data removed]",
      "text/plain": [
       "<Figure size 1000x800 with 1 Axes>"
      ]
     },
     "metadata": {},
     "output_type": "display_data"
    }
   ],
   "source": [
    "# Import PCA\n",
    "from sklearn.decomposition import PCA\n",
    "\n",
    "# Plot the PCA spectrum\n",
    "pca = PCA().fit(X)\n",
    "\n",
    "plt.figure(figsize=(10, 8))\n",
    "plt.plot(np.cumsum(pca.explained_variance_ratio_))\n",
    "plt.xlabel('Number of Components')\n",
    "plt.ylabel('Variance (%)')\n",
    "plt.title('Mushroom Dataset Explained Variance')\n",
    "plt.show()"
   ]
  },
  {
   "cell_type": "code",
   "execution_count": 14,
   "metadata": {},
   "outputs": [],
   "source": [
    "# Take 85% of the variance\n",
    "pca = PCA(0.85)\n",
    "\n",
    "# Fit PCA\n",
    "pca.fit(X)\n",
    "\n",
    "# Transform the data\n",
    "X = pca.transform(X)\n",
    "\n",
    "# Split the data into train and test sets\n",
    "X_train, X_test, y_train, y_test = train_test_split(X, y, test_size=0.25, random_state=42)"
   ]
  },
  {
   "cell_type": "code",
   "execution_count": 15,
   "metadata": {},
   "outputs": [
    {
     "name": "stdout",
     "output_type": "stream",
     "text": [
      "Logistic Regression Accuracy: 0.6211684569033272\n",
      "[[6758 1729]\n",
      " [4055 2726]]\n",
      "              precision    recall  f1-score   support\n",
      "\n",
      "           0       0.62      0.80      0.70      8487\n",
      "           1       0.61      0.40      0.49      6781\n",
      "\n",
      "    accuracy                           0.62     15268\n",
      "   macro avg       0.62      0.60      0.59     15268\n",
      "weighted avg       0.62      0.62      0.60     15268\n",
      "\n"
     ]
    }
   ],
   "source": [
    "# Logistic Regression\n",
    "log_reg_pca = LogisticRegression(max_iter=1000)\n",
    "\n",
    "# Fit the model\n",
    "log_reg_pca.fit(X_train, y_train)\n",
    "\n",
    "# Predict the labels\n",
    "y_pred_test = log_reg_pca.predict(X_test)\n",
    "\n",
    "# Accuracy score\n",
    "print(f\"Logistic Regression Accuracy: {accuracy_score(y_test, y_pred_test)}\")\n",
    "\n",
    "# Confusion matrix\n",
    "print(confusion_matrix(y_test, y_pred_test))\n",
    "\n",
    "# Classification report\n",
    "print(classification_report(y_test, y_pred_test))"
   ]
  },
  {
   "cell_type": "code",
   "execution_count": 16,
   "metadata": {},
   "outputs": [
    {
     "name": "stdout",
     "output_type": "stream",
     "text": [
      "Random Forest Classifier Accuracy: 0.9488472622478387\n",
      "[[8033  454]\n",
      " [ 327 6454]]\n",
      "              precision    recall  f1-score   support\n",
      "\n",
      "           0       0.96      0.95      0.95      8487\n",
      "           1       0.93      0.95      0.94      6781\n",
      "\n",
      "    accuracy                           0.95     15268\n",
      "   macro avg       0.95      0.95      0.95     15268\n",
      "weighted avg       0.95      0.95      0.95     15268\n",
      "\n"
     ]
    }
   ],
   "source": [
    "# Random Forest Classifier\n",
    "rfc_pca = RandomForestClassifier(max_depth=10, n_estimators=100)\n",
    "\n",
    "# Fit the model\n",
    "rfc_pca.fit(X_train, y_train)\n",
    "\n",
    "# Predict the labels\n",
    "y_pred_test = rfc_pca.predict(X_test)\n",
    "\n",
    "# Accuracy score\n",
    "print(f\"Random Forest Classifier Accuracy: {accuracy_score(y_test, y_pred_test)}\")\n",
    "\n",
    "# Confusion matrix\n",
    "print(confusion_matrix(y_test, y_pred_test))\n",
    "\n",
    "# Classification report\n",
    "print(classification_report(y_test, y_pred_test))"
   ]
  },
  {
   "cell_type": "code",
   "execution_count": 17,
   "metadata": {},
   "outputs": [
    {
     "name": "stdout",
     "output_type": "stream",
     "text": [
      "Gradient Boosting Classifier Accuracy: 0.9933193607545192\n",
      "[[8443   44]\n",
      " [  58 6723]]\n",
      "              precision    recall  f1-score   support\n",
      "\n",
      "           0       0.99      0.99      0.99      8487\n",
      "           1       0.99      0.99      0.99      6781\n",
      "\n",
      "    accuracy                           0.99     15268\n",
      "   macro avg       0.99      0.99      0.99     15268\n",
      "weighted avg       0.99      0.99      0.99     15268\n",
      "\n"
     ]
    }
   ],
   "source": [
    "# Gradient Boosting Classifier\n",
    "gbc_pca = GradientBoostingClassifier(max_depth=10, n_estimators=100)\n",
    "\n",
    "# Fit the model\n",
    "gbc_pca.fit(X_train, y_train)\n",
    "\n",
    "# Predict the labels\n",
    "y_pred_test = gbc_pca.predict(X_test)\n",
    "\n",
    "# Accuracy score\n",
    "print(f\"Gradient Boosting Classifier Accuracy: {accuracy_score(y_test, y_pred_test)}\")\n",
    "\n",
    "# Confusion matrix\n",
    "print(confusion_matrix(y_test, y_pred_test))\n",
    "\n",
    "# Classification report\n",
    "print(classification_report(y_test, y_pred_test))"
   ]
  },
  {
   "cell_type": "code",
   "execution_count": 18,
   "metadata": {},
   "outputs": [
    {
     "name": "stdout",
     "output_type": "stream",
     "text": [
      "Naive Bayes Classifier Accuracy: 0.5959523185747969\n",
      "[[6478 2009]\n",
      " [4160 2621]]\n",
      "              precision    recall  f1-score   support\n",
      "\n",
      "           0       0.61      0.76      0.68      8487\n",
      "           1       0.57      0.39      0.46      6781\n",
      "\n",
      "    accuracy                           0.60     15268\n",
      "   macro avg       0.59      0.57      0.57     15268\n",
      "weighted avg       0.59      0.60      0.58     15268\n",
      "\n"
     ]
    }
   ],
   "source": [
    "# Naive Bayes Classifier\n",
    "gnb_pca = GaussianNB()\n",
    "\n",
    "# Fit the model\n",
    "gnb_pca.fit(X_train, y_train)\n",
    "\n",
    "# Predict the labels\n",
    "y_pred_test = gnb_pca.predict(X_test)\n",
    "\n",
    "# Accuracy score\n",
    "print(f\"Naive Bayes Classifier Accuracy: {accuracy_score(y_test, y_pred_test)}\")\n",
    "\n",
    "# Confusion matrix\n",
    "print(confusion_matrix(y_test, y_pred_test))\n",
    "\n",
    "# Classification report\n",
    "print(classification_report(y_test, y_pred_test))"
   ]
  },
  {
   "cell_type": "code",
   "execution_count": 19,
   "metadata": {},
   "outputs": [
    {
     "name": "stdout",
     "output_type": "stream",
     "text": [
      "SVM Classifier Accuracy: 0.888328530259366\n",
      "[[7569  918]\n",
      " [ 787 5994]]\n",
      "              precision    recall  f1-score   support\n",
      "\n",
      "           0       0.91      0.89      0.90      8487\n",
      "           1       0.87      0.88      0.88      6781\n",
      "\n",
      "    accuracy                           0.89     15268\n",
      "   macro avg       0.89      0.89      0.89     15268\n",
      "weighted avg       0.89      0.89      0.89     15268\n",
      "\n"
     ]
    }
   ],
   "source": [
    "# SVM Classifier\n",
    "svc_pca = SVC()\n",
    "\n",
    "# Fit the model\n",
    "svc_pca.fit(X_train, y_train)\n",
    "\n",
    "# Predict the labels\n",
    "y_pred_test = svc_pca.predict(X_test)\n",
    "\n",
    "# Accuracy score\n",
    "print(f\"SVM Classifier Accuracy: {accuracy_score(y_test, y_pred_test)}\")\n",
    "\n",
    "# Confusion matrix\n",
    "print(confusion_matrix(y_test, y_pred_test))\n",
    "\n",
    "# Classification report\n",
    "print(classification_report(y_test, y_pred_test))"
   ]
  },
  {
   "cell_type": "code",
   "execution_count": 20,
   "metadata": {},
   "outputs": [
    {
     "name": "stderr",
     "output_type": "stream",
     "text": [
      "c:\\Users\\siya1\\AppData\\Local\\Programs\\Python\\Python310\\lib\\site-packages\\sklearn\\neighbors\\_classification.py:228: FutureWarning: Unlike other reduction functions (e.g. `skew`, `kurtosis`), the default behavior of `mode` typically preserves the axis it acts along. In SciPy 1.11.0, this behavior will change: the default value of `keepdims` will become False, the `axis` over which the statistic is taken will be eliminated, and the value None will no longer be accepted. Set `keepdims` to True or False to avoid this warning.\n",
      "  mode, _ = stats.mode(_y[neigh_ind, k], axis=1)\n"
     ]
    },
    {
     "name": "stdout",
     "output_type": "stream",
     "text": [
      "KNN Classifier Accuracy: 0.9935158501440923\n",
      "[[8438   49]\n",
      " [  50 6731]]\n",
      "              precision    recall  f1-score   support\n",
      "\n",
      "           0       0.99      0.99      0.99      8487\n",
      "           1       0.99      0.99      0.99      6781\n",
      "\n",
      "    accuracy                           0.99     15268\n",
      "   macro avg       0.99      0.99      0.99     15268\n",
      "weighted avg       0.99      0.99      0.99     15268\n",
      "\n"
     ]
    }
   ],
   "source": [
    "# K-nearest neighbors classifier\n",
    "knn_pca = KNeighborsClassifier(n_neighbors=5)\n",
    "\n",
    "# Fit the model\n",
    "knn_pca.fit(X_train, y_train)\n",
    "\n",
    "# Predict the labels\n",
    "y_pred_test = knn_pca.predict(X_test)\n",
    "\n",
    "# Accuracy score\n",
    "print(f\"KNN Classifier Accuracy: {accuracy_score(y_test, y_pred_test)}\")\n",
    "\n",
    "# Confusion matrix\n",
    "print(confusion_matrix(y_test, y_pred_test))\n",
    "\n",
    "# Classification report\n",
    "print(classification_report(y_test, y_pred_test))"
   ]
  },
  {
   "cell_type": "code",
   "execution_count": null,
   "metadata": {},
   "outputs": [],
   "source": []
  },
  {
   "cell_type": "code",
   "execution_count": null,
   "metadata": {},
   "outputs": [],
   "source": []
  }
 ],
 "metadata": {
  "kernelspec": {
   "display_name": "Python 3",
   "language": "python",
   "name": "python3"
  },
  "language_info": {
   "codemirror_mode": {
    "name": "ipython",
    "version": 3
   },
   "file_extension": ".py",
   "mimetype": "text/x-python",
   "name": "python",
   "nbconvert_exporter": "python",
   "pygments_lexer": "ipython3",
   "version": "3.10.6"
  }
 },
 "nbformat": 4,
 "nbformat_minor": 2
}
