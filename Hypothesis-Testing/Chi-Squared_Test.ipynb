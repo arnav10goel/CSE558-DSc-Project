{
 "cells": [
  {
   "cell_type": "code",
   "execution_count": 141,
   "metadata": {},
   "outputs": [],
   "source": [
    "import numpy as np\n",
    "import pandas as pd\n",
    "import matplotlib.pyplot as plt\n",
    "import seaborn as sns\n",
    "from scipy.stats import chi2"
   ]
  },
  {
   "cell_type": "code",
   "execution_count": 142,
   "metadata": {},
   "outputs": [
    {
     "data": {
      "text/html": [
       "<div>\n",
       "<style scoped>\n",
       "    .dataframe tbody tr th:only-of-type {\n",
       "        vertical-align: middle;\n",
       "    }\n",
       "\n",
       "    .dataframe tbody tr th {\n",
       "        vertical-align: top;\n",
       "    }\n",
       "\n",
       "    .dataframe thead th {\n",
       "        text-align: right;\n",
       "    }\n",
       "</style>\n",
       "<table border=\"1\" class=\"dataframe\">\n",
       "  <thead>\n",
       "    <tr style=\"text-align: right;\">\n",
       "      <th></th>\n",
       "      <th>cap-diameter</th>\n",
       "      <th>cap-shape</th>\n",
       "      <th>cap-surface</th>\n",
       "      <th>cap-color</th>\n",
       "      <th>does-bruise-or-bleed</th>\n",
       "      <th>gill-attachment</th>\n",
       "      <th>gill-spacing</th>\n",
       "      <th>gill-color</th>\n",
       "      <th>stem-height</th>\n",
       "      <th>stem-width</th>\n",
       "      <th>stem-color</th>\n",
       "      <th>has-ring</th>\n",
       "      <th>ring-type</th>\n",
       "      <th>habitat</th>\n",
       "      <th>season</th>\n",
       "    </tr>\n",
       "  </thead>\n",
       "  <tbody>\n",
       "    <tr>\n",
       "      <th>0</th>\n",
       "      <td>15.26</td>\n",
       "      <td>x</td>\n",
       "      <td>g</td>\n",
       "      <td>o</td>\n",
       "      <td>f</td>\n",
       "      <td>e</td>\n",
       "      <td>c</td>\n",
       "      <td>w</td>\n",
       "      <td>16.95</td>\n",
       "      <td>17.09</td>\n",
       "      <td>w</td>\n",
       "      <td>t</td>\n",
       "      <td>g</td>\n",
       "      <td>d</td>\n",
       "      <td>w</td>\n",
       "    </tr>\n",
       "    <tr>\n",
       "      <th>1</th>\n",
       "      <td>16.60</td>\n",
       "      <td>x</td>\n",
       "      <td>g</td>\n",
       "      <td>o</td>\n",
       "      <td>f</td>\n",
       "      <td>e</td>\n",
       "      <td>c</td>\n",
       "      <td>w</td>\n",
       "      <td>17.99</td>\n",
       "      <td>18.19</td>\n",
       "      <td>w</td>\n",
       "      <td>t</td>\n",
       "      <td>g</td>\n",
       "      <td>d</td>\n",
       "      <td>u</td>\n",
       "    </tr>\n",
       "    <tr>\n",
       "      <th>2</th>\n",
       "      <td>14.07</td>\n",
       "      <td>x</td>\n",
       "      <td>g</td>\n",
       "      <td>o</td>\n",
       "      <td>f</td>\n",
       "      <td>e</td>\n",
       "      <td>c</td>\n",
       "      <td>w</td>\n",
       "      <td>17.80</td>\n",
       "      <td>17.74</td>\n",
       "      <td>w</td>\n",
       "      <td>t</td>\n",
       "      <td>g</td>\n",
       "      <td>d</td>\n",
       "      <td>w</td>\n",
       "    </tr>\n",
       "    <tr>\n",
       "      <th>3</th>\n",
       "      <td>14.17</td>\n",
       "      <td>f</td>\n",
       "      <td>h</td>\n",
       "      <td>e</td>\n",
       "      <td>f</td>\n",
       "      <td>e</td>\n",
       "      <td>c</td>\n",
       "      <td>w</td>\n",
       "      <td>15.77</td>\n",
       "      <td>15.98</td>\n",
       "      <td>w</td>\n",
       "      <td>t</td>\n",
       "      <td>p</td>\n",
       "      <td>d</td>\n",
       "      <td>w</td>\n",
       "    </tr>\n",
       "    <tr>\n",
       "      <th>4</th>\n",
       "      <td>14.64</td>\n",
       "      <td>x</td>\n",
       "      <td>h</td>\n",
       "      <td>o</td>\n",
       "      <td>f</td>\n",
       "      <td>e</td>\n",
       "      <td>c</td>\n",
       "      <td>w</td>\n",
       "      <td>16.53</td>\n",
       "      <td>17.20</td>\n",
       "      <td>w</td>\n",
       "      <td>t</td>\n",
       "      <td>p</td>\n",
       "      <td>d</td>\n",
       "      <td>w</td>\n",
       "    </tr>\n",
       "  </tbody>\n",
       "</table>\n",
       "</div>"
      ],
      "text/plain": [
       "   cap-diameter cap-shape cap-surface cap-color does-bruise-or-bleed  \\\n",
       "0         15.26         x           g         o                    f   \n",
       "1         16.60         x           g         o                    f   \n",
       "2         14.07         x           g         o                    f   \n",
       "3         14.17         f           h         e                    f   \n",
       "4         14.64         x           h         o                    f   \n",
       "\n",
       "  gill-attachment gill-spacing gill-color  stem-height  stem-width stem-color  \\\n",
       "0               e            c          w        16.95       17.09          w   \n",
       "1               e            c          w        17.99       18.19          w   \n",
       "2               e            c          w        17.80       17.74          w   \n",
       "3               e            c          w        15.77       15.98          w   \n",
       "4               e            c          w        16.53       17.20          w   \n",
       "\n",
       "  has-ring ring-type habitat season  \n",
       "0        t         g       d      w  \n",
       "1        t         g       d      u  \n",
       "2        t         g       d      w  \n",
       "3        t         p       d      w  \n",
       "4        t         p       d      w  "
      ]
     },
     "execution_count": 142,
     "metadata": {},
     "output_type": "execute_result"
    }
   ],
   "source": [
    "df_no_encoded = pd.read_csv('/Users/arnav/Desktop/MachineLearning/CSE558-DSc-Project/Data_Preproc_NoEncoding.csv')\n",
    "\n",
    "df_no_encoded.head()"
   ]
  },
  {
   "cell_type": "code",
   "execution_count": 143,
   "metadata": {},
   "outputs": [
    {
     "data": {
      "text/plain": [
       "cap-diameter            2571\n",
       "cap-shape                  7\n",
       "cap-surface               11\n",
       "cap-color                 12\n",
       "does-bruise-or-bleed       2\n",
       "gill-attachment            7\n",
       "gill-spacing               3\n",
       "gill-color                12\n",
       "stem-height             2226\n",
       "stem-width              4630\n",
       "stem-color                13\n",
       "has-ring                   2\n",
       "ring-type                  8\n",
       "habitat                    8\n",
       "season                     4\n",
       "dtype: int64"
      ]
     },
     "execution_count": 143,
     "metadata": {},
     "output_type": "execute_result"
    }
   ],
   "source": [
    "df_no_encoded.nunique()"
   ]
  },
  {
   "cell_type": "code",
   "execution_count": 144,
   "metadata": {},
   "outputs": [
    {
     "data": {
      "text/plain": [
       "array(['g', 'p', 'e', 'l', 'f', 'm', 'r', 'z'], dtype=object)"
      ]
     },
     "execution_count": 144,
     "metadata": {},
     "output_type": "execute_result"
    }
   ],
   "source": [
    "# Check Unique Values from the Column 'habitat'\n",
    "df_no_encoded['habitat'].unique()"
   ]
  },
  {
   "cell_type": "code",
   "execution_count": 145,
   "metadata": {},
   "outputs": [
    {
     "data": {
      "text/html": [
       "<div>\n",
       "<style scoped>\n",
       "    .dataframe tbody tr th:only-of-type {\n",
       "        vertical-align: middle;\n",
       "    }\n",
       "\n",
       "    .dataframe tbody tr th {\n",
       "        vertical-align: top;\n",
       "    }\n",
       "\n",
       "    .dataframe thead th {\n",
       "        text-align: right;\n",
       "    }\n",
       "</style>\n",
       "<table border=\"1\" class=\"dataframe\">\n",
       "  <thead>\n",
       "    <tr style=\"text-align: right;\">\n",
       "      <th></th>\n",
       "      <th>class</th>\n",
       "    </tr>\n",
       "  </thead>\n",
       "  <tbody>\n",
       "    <tr>\n",
       "      <th>0</th>\n",
       "      <td>p</td>\n",
       "    </tr>\n",
       "    <tr>\n",
       "      <th>1</th>\n",
       "      <td>p</td>\n",
       "    </tr>\n",
       "    <tr>\n",
       "      <th>2</th>\n",
       "      <td>p</td>\n",
       "    </tr>\n",
       "    <tr>\n",
       "      <th>3</th>\n",
       "      <td>p</td>\n",
       "    </tr>\n",
       "    <tr>\n",
       "      <th>4</th>\n",
       "      <td>p</td>\n",
       "    </tr>\n",
       "  </tbody>\n",
       "</table>\n",
       "</div>"
      ],
      "text/plain": [
       "  class\n",
       "0     p\n",
       "1     p\n",
       "2     p\n",
       "3     p\n",
       "4     p"
      ]
     },
     "execution_count": 145,
     "metadata": {},
     "output_type": "execute_result"
    }
   ],
   "source": [
    "# Open the labels file\n",
    "df_labels = pd.read_csv('/Users/arnav/Desktop/MachineLearning/CSE558-DSc-Project/Labels.csv')\n",
    "\n",
    "df_labels.head()"
   ]
  },
  {
   "cell_type": "markdown",
   "metadata": {},
   "source": [
    "### $\\chi^{2}$ test for Goodness of Fit\n",
    "\n",
    "- We pick two categorical variables i.e. the Habitat of the Mushroom and the Class of the Mushroom (i.e. Poisonous or Edible)\n",
    "- We perform $\\chi^{2}$ test on these two categorical variables to determine if the two are independent or not.\n",
    "- We will visualise these two variables together now"
   ]
  },
  {
   "cell_type": "code",
   "execution_count": 146,
   "metadata": {},
   "outputs": [
    {
     "data": {
      "text/html": [
       "<div>\n",
       "<style scoped>\n",
       "    .dataframe tbody tr th:only-of-type {\n",
       "        vertical-align: middle;\n",
       "    }\n",
       "\n",
       "    .dataframe tbody tr th {\n",
       "        vertical-align: top;\n",
       "    }\n",
       "\n",
       "    .dataframe thead th {\n",
       "        text-align: right;\n",
       "    }\n",
       "</style>\n",
       "<table border=\"1\" class=\"dataframe\">\n",
       "  <thead>\n",
       "    <tr style=\"text-align: right;\">\n",
       "      <th>class</th>\n",
       "      <th>e</th>\n",
       "      <th>p</th>\n",
       "    </tr>\n",
       "    <tr>\n",
       "      <th>ring-type</th>\n",
       "      <th></th>\n",
       "      <th></th>\n",
       "    </tr>\n",
       "  </thead>\n",
       "  <tbody>\n",
       "    <tr>\n",
       "      <th>e</th>\n",
       "      <td>1230</td>\n",
       "      <td>1583</td>\n",
       "    </tr>\n",
       "    <tr>\n",
       "      <th>f</th>\n",
       "      <td>21533</td>\n",
       "      <td>26879</td>\n",
       "    </tr>\n",
       "    <tr>\n",
       "      <th>g</th>\n",
       "      <td>1232</td>\n",
       "      <td>725</td>\n",
       "    </tr>\n",
       "    <tr>\n",
       "      <th>l</th>\n",
       "      <td>877</td>\n",
       "      <td>555</td>\n",
       "    </tr>\n",
       "    <tr>\n",
       "      <th>m</th>\n",
       "      <td>353</td>\n",
       "      <td>0</td>\n",
       "    </tr>\n",
       "    <tr>\n",
       "      <th>p</th>\n",
       "      <td>753</td>\n",
       "      <td>717</td>\n",
       "    </tr>\n",
       "    <tr>\n",
       "      <th>r</th>\n",
       "      <td>914</td>\n",
       "      <td>820</td>\n",
       "    </tr>\n",
       "    <tr>\n",
       "      <th>z</th>\n",
       "      <td>289</td>\n",
       "      <td>2609</td>\n",
       "    </tr>\n",
       "  </tbody>\n",
       "</table>\n",
       "</div>"
      ],
      "text/plain": [
       "class          e      p\n",
       "ring-type              \n",
       "e           1230   1583\n",
       "f          21533  26879\n",
       "g           1232    725\n",
       "l            877    555\n",
       "m            353      0\n",
       "p            753    717\n",
       "r            914    820\n",
       "z            289   2609"
      ]
     },
     "execution_count": 146,
     "metadata": {},
     "output_type": "execute_result"
    }
   ],
   "source": [
    "contingency_table = pd.crosstab(df_no_encoded['habitat'], \n",
    " df_labels['class'])\n",
    "\n",
    "contingency_table"
   ]
  },
  {
   "cell_type": "code",
   "execution_count": 147,
   "metadata": {},
   "outputs": [
    {
     "data": {
      "image/png": "[encoded data removed]",
      "text/plain": [
       "<Figure size 720x360 with 1 Axes>"
      ]
     },
     "metadata": {},
     "output_type": "display_data"
    }
   ],
   "source": [
    "# Visualize the CrossTab using a stacked bar chart\n",
    "contingency_table.plot(kind='bar', stacked=True, figsize=(10,5))\n",
    "\n",
    "plt.title('Habitat vs Class')\n",
    "plt.xlabel('Habitat')\n",
    "plt.ylabel('Class')\n",
    "plt.xticks(rotation=45)\n",
    "plt.show()"
   ]
  },
  {
   "cell_type": "markdown",
   "metadata": {},
   "source": [
    "- We now define our null and alternate hypothesis tests\n",
    "\n",
    "1. Null Hypothesis: \n",
    "\n",
    "$H_{0}$ : Class and Habitat are Independent of each other\n",
    "\n",
    "2. Alternate Hypothesis: \n",
    "\n",
    "$H_{1}$ : Class and Habitat are Dependent on each other"
   ]
  },
  {
   "cell_type": "code",
   "execution_count": 148,
   "metadata": {},
   "outputs": [
    {
     "name": "stdout",
     "output_type": "stream",
     "text": [
      "Expected Frequencies:\n",
      "[[ 1252.02890173  1560.97109827]\n",
      " [21547.53757225 26864.46242775]\n",
      " [  871.03468208  1085.96531792]\n",
      " [  637.36416185   794.63583815]\n",
      " [  157.11560694   195.88439306]\n",
      " [  654.27745665   815.72254335]\n",
      " [  771.78034682   962.21965318]\n",
      " [ 1289.86127168  1608.13872832]]\n"
     ]
    }
   ],
   "source": [
    "# Calculate observed frequencies\n",
    "O = contingency_table.values\n",
    "\n",
    "# Calculate expected frequencies\n",
    "n = np.sum(O)\n",
    "row_totals = np.sum(O, axis=1)\n",
    "col_totals = np.sum(O, axis=0)\n",
    "\n",
    "# Calculate expected frequencies for each cell\n",
    "E = np.outer(row_totals, col_totals) / n\n",
    "\n",
    "print(\"Expected Frequencies:\")\n",
    "print(E)"
   ]
  },
  {
   "cell_type": "code",
   "execution_count": 149,
   "metadata": {},
   "outputs": [
    {
     "name": "stdout",
     "output_type": "stream",
     "text": [
      "Chi-Squared Statistic: 2346.3473733966002\n",
      "Degrees of Freedom: 7\n",
      "P-Value: 0.0\n"
     ]
    }
   ],
   "source": [
    "# Calculate the chi-squared statistic\n",
    "chi2_stat = 0\n",
    "for i in range(O.shape[0]):\n",
    "    for j in range(O.shape[1]):\n",
    "        chi2_stat += ((O[i,j] - E[i,j]) ** 2) / E[i,j]\n",
    "\n",
    "# Calculate the p-value\n",
    "dof = (O.shape[0] - 1) * (O.shape[1] - 1)\n",
    "p_value = 1 - chi2.cdf(chi2_stat, dof)\n",
    "\n",
    "print('Chi-Squared Statistic:', chi2_stat)\n",
    "print('Degrees of Freedom:', dof)\n",
    "print('P-Value:', p_value)"
   ]
  },
  {
   "cell_type": "code",
   "execution_count": 150,
   "metadata": {},
   "outputs": [
    {
     "data": {
      "image/png": "[encoded data removed]",
      "text/plain": [
       "<Figure size 720x432 with 1 Axes>"
      ]
     },
     "metadata": {},
     "output_type": "display_data"
    }
   ],
   "source": [
    "# Set up the plot\n",
    "sns.set(style=\"whitegrid\")\n",
    "plt.figure(figsize=(10, 6))\n",
    "\n",
    "# Values for x-axis\n",
    "x = np.linspace(chi2.ppf(0.001, dof), chi2.ppf(0.999, dof), 1000)\n",
    "\n",
    "# Plot chi-squared distribution\n",
    "plt.plot(x, chi2.pdf(x, dof), 'r-', lw=2, label=f'Chi-squared Distribution\\n(dof={dof})')\n",
    "\n",
    "# Highlight the region beyond the critical value for 5% significance\n",
    "critical_value = chi2.ppf(0.95, dof)\n",
    "plt.fill_between(x, chi2.pdf(x, dof), where=(x > critical_value), color=\"red\", alpha=0.3)\n",
    "\n",
    "# Annotate the 5% critical value\n",
    "plt.axvline(critical_value, color='blue', linestyle='--', label=f'Critical Value (5% Significance)\\nχ2 = {critical_value:.2f}')\n",
    "plt.text(critical_value, 0, '5% Level', horizontalalignment='center', verticalalignment='bottom')\n",
    "\n",
    "# Annotate the computed chi2 statistic\n",
    "plt.axvline(chi2_stat, color='green', linestyle='--', label=f'Observed χ2\\nχ2 = {chi2_stat:.2f}')\n",
    "plt.text(chi2_stat, 0, 'Observed Value', horizontalalignment='center', verticalalignment='bottom')\n",
    "\n",
    "# Add title and labels\n",
    "plt.title(\"Visualization of Chi-squared Distribution vs. Computed χ2 Statistic\")\n",
    "plt.xlabel(\"χ2 Value\")\n",
    "plt.ylabel(\"Probability Density Function (pdf)\")\n",
    "plt.legend()\n",
    "\n",
    "plt.tight_layout()\n",
    "plt.show()\n"
   ]
  },
  {
   "cell_type": "markdown",
   "metadata": {},
   "source": [
    "- This suggest with a very strong statistical significance to reject our Null Hypothesis\n",
    "\n",
    "- Therefore from this test, we can conclude that the two categorical variables are dependent on each other"
   ]
  },
  {
   "cell_type": "markdown",
   "metadata": {},
   "source": [
    "### Validation Experiments\n",
    "\n",
    "1. We check the Expected Frequency Table for any frequency less than 5:"
   ]
  },
  {
   "cell_type": "code",
   "execution_count": 151,
   "metadata": {},
   "outputs": [
    {
     "name": "stdout",
     "output_type": "stream",
     "text": [
      "Cells with expected frequency < 5: 0/16\n"
     ]
    }
   ],
   "source": [
    "count_low_freq = (E < 5).sum()\n",
    "total_cells = E.size\n",
    "\n",
    "print(f\"Cells with expected frequency < 5: {count_low_freq}/{total_cells}\")"
   ]
  },
  {
   "cell_type": "markdown",
   "metadata": {},
   "source": [
    "2. Boostrapping to Test Consistency"
   ]
  },
  {
   "cell_type": "code",
   "execution_count": 152,
   "metadata": {},
   "outputs": [
    {
     "data": {
      "image/png": "[encoded data removed]",
      "text/plain": [
       "<Figure size 432x288 with 1 Axes>"
      ]
     },
     "metadata": {},
     "output_type": "display_data"
    }
   ],
   "source": [
    "from scipy.stats import chi2_contingency\n",
    "\n",
    "# Create a dataframe with the labels\n",
    "df_comp = pd.concat([df_no_encoded, df_labels], axis=1)\n",
    "\n",
    "n_iterations = 1000\n",
    "p_values_bootstrap = []\n",
    "\n",
    "for _ in range(n_iterations):\n",
    "    bootstrap_sample = df_comp.sample(frac=0.8, replace=True)\n",
    "    bootstrap_contingency = pd.crosstab(bootstrap_sample['habitat'], bootstrap_sample['class'])\n",
    "    \n",
    "    _, p_bootstrap, _, _ = chi2_contingency(bootstrap_contingency)\n",
    "    p_values_bootstrap.append(p_bootstrap)\n",
    "\n",
    "# Now you can visualize the distribution of p-values if desired\n",
    "plt.hist(p_values_bootstrap, bins=30)\n",
    "plt.xlabel('P-value')\n",
    "plt.ylabel('Frequency')\n",
    "plt.title('Distribution of P-values from Bootstrapping')\n",
    "plt.show()\n"
   ]
  }
 ],
 "metadata": {
  "kernelspec": {
   "display_name": "Python 3",
   "language": "python",
   "name": "python3"
  },
  "language_info": {
   "codemirror_mode": {
    "name": "ipython",
    "version": 3
   },
   "file_extension": ".py",
   "mimetype": "text/x-python",
   "name": "python",
   "nbconvert_exporter": "python",
   "pygments_lexer": "ipython3",
   "version": "3.10.0"
  }
 },
 "nbformat": 4,
 "nbformat_minor": 2
}
