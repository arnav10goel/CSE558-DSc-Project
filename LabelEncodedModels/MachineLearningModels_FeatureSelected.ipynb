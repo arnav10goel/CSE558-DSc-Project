{
 "cells": [
  {
   "cell_type": "code",
   "execution_count": 1,
   "metadata": {},
   "outputs": [],
   "source": [
    "import numpy as np\n",
    "import pandas as pd\n",
    "import matplotlib.pyplot as plt\n",
    "import seaborn as sns\n",
    "from sklearn.metrics import accuracy_score, confusion_matrix, classification_report\n",
    "from sklearn.model_selection import train_test_split\n",
    "from sklearn.preprocessing import StandardScaler\n",
    "from sklearn.linear_model import LogisticRegression\n",
    "from sklearn.ensemble import RandomForestClassifier, GradientBoostingClassifier\n",
    "from sklearn.naive_bayes import GaussianNB"
   ]
  },
  {
   "cell_type": "code",
   "execution_count": 2,
   "metadata": {},
   "outputs": [
    {
     "data": {
      "text/html": [
       "<div>\n",
       "<style scoped>\n",
       "    .dataframe tbody tr th:only-of-type {\n",
       "        vertical-align: middle;\n",
       "    }\n",
       "\n",
       "    .dataframe tbody tr th {\n",
       "        vertical-align: top;\n",
       "    }\n",
       "\n",
       "    .dataframe thead th {\n",
       "        text-align: right;\n",
       "    }\n",
       "</style>\n",
       "<table border=\"1\" class=\"dataframe\">\n",
       "  <thead>\n",
       "    <tr style=\"text-align: right;\">\n",
       "      <th></th>\n",
       "      <th>cap-shape</th>\n",
       "      <th>cap-surface</th>\n",
       "      <th>cap-color</th>\n",
       "      <th>gill-attachment</th>\n",
       "      <th>gill-spacing</th>\n",
       "      <th>gill-color</th>\n",
       "      <th>stem-width</th>\n",
       "      <th>stem-color</th>\n",
       "      <th>ring-type</th>\n",
       "      <th>habitat</th>\n",
       "    </tr>\n",
       "  </thead>\n",
       "  <tbody>\n",
       "    <tr>\n",
       "      <th>0</th>\n",
       "      <td>6</td>\n",
       "      <td>2</td>\n",
       "      <td>6</td>\n",
       "      <td>2</td>\n",
       "      <td>0</td>\n",
       "      <td>10</td>\n",
       "      <td>0.492293</td>\n",
       "      <td>11</td>\n",
       "      <td>2</td>\n",
       "      <td>0</td>\n",
       "    </tr>\n",
       "    <tr>\n",
       "      <th>1</th>\n",
       "      <td>6</td>\n",
       "      <td>2</td>\n",
       "      <td>6</td>\n",
       "      <td>2</td>\n",
       "      <td>0</td>\n",
       "      <td>10</td>\n",
       "      <td>0.601900</td>\n",
       "      <td>11</td>\n",
       "      <td>2</td>\n",
       "      <td>0</td>\n",
       "    </tr>\n",
       "    <tr>\n",
       "      <th>2</th>\n",
       "      <td>6</td>\n",
       "      <td>2</td>\n",
       "      <td>6</td>\n",
       "      <td>2</td>\n",
       "      <td>0</td>\n",
       "      <td>10</td>\n",
       "      <td>0.557061</td>\n",
       "      <td>11</td>\n",
       "      <td>2</td>\n",
       "      <td>0</td>\n",
       "    </tr>\n",
       "    <tr>\n",
       "      <th>3</th>\n",
       "      <td>2</td>\n",
       "      <td>3</td>\n",
       "      <td>1</td>\n",
       "      <td>2</td>\n",
       "      <td>0</td>\n",
       "      <td>10</td>\n",
       "      <td>0.381690</td>\n",
       "      <td>11</td>\n",
       "      <td>5</td>\n",
       "      <td>0</td>\n",
       "    </tr>\n",
       "    <tr>\n",
       "      <th>4</th>\n",
       "      <td>6</td>\n",
       "      <td>3</td>\n",
       "      <td>6</td>\n",
       "      <td>2</td>\n",
       "      <td>0</td>\n",
       "      <td>10</td>\n",
       "      <td>0.503254</td>\n",
       "      <td>11</td>\n",
       "      <td>5</td>\n",
       "      <td>0</td>\n",
       "    </tr>\n",
       "  </tbody>\n",
       "</table>\n",
       "</div>"
      ],
      "text/plain": [
       "   cap-shape  cap-surface  cap-color  gill-attachment  gill-spacing  \\\n",
       "0          6            2          6                2             0   \n",
       "1          6            2          6                2             0   \n",
       "2          6            2          6                2             0   \n",
       "3          2            3          1                2             0   \n",
       "4          6            3          6                2             0   \n",
       "\n",
       "   gill-color  stem-width  stem-color  ring-type  habitat  \n",
       "0          10    0.492293          11          2        0  \n",
       "1          10    0.601900          11          2        0  \n",
       "2          10    0.557061          11          2        0  \n",
       "3          10    0.381690          11          5        0  \n",
       "4          10    0.503254          11          5        0  "
      ]
     },
     "execution_count": 2,
     "metadata": {},
     "output_type": "execute_result"
    }
   ],
   "source": [
    "# Read the CSV file\n",
    "df_features = pd.read_csv('/Users/arnav/Desktop/MachineLearning/CSE558-DSc-Project/Data_Feature_Selected.csv')\n",
    "df_features.head()"
   ]
  },
  {
   "cell_type": "code",
   "execution_count": 4,
   "metadata": {},
   "outputs": [
    {
     "name": "stdout",
     "output_type": "stream",
     "text": [
      "(61069, 10)\n"
     ]
    }
   ],
   "source": [
    "# Read the labels CSV file\n",
    "print(df_features.shape)\n",
    "df_labels = pd.read_csv('/Users/arnav/Desktop/MachineLearning/CSE558-DSc-Project/Labels.csv')"
   ]
  },
  {
   "cell_type": "code",
   "execution_count": 5,
   "metadata": {},
   "outputs": [
    {
     "data": {
      "text/plain": [
       "array(['p', 'e'], dtype=object)"
      ]
     },
     "execution_count": 5,
     "metadata": {},
     "output_type": "execute_result"
    }
   ],
   "source": [
    "# Unique values in the labels\n",
    "df_labels['class'].unique()"
   ]
  },
  {
   "cell_type": "code",
   "execution_count": 6,
   "metadata": {},
   "outputs": [],
   "source": [
    "# Retrieve the features and labels\n",
    "X = df_features.values\n",
    "y = df_labels.values\n",
    "\n",
    "# Replace labels with 0 and 1\n",
    "y[y == 'p'] = 0\n",
    "y[y == 'e'] = 1\n",
    "\n",
    "y = [o[0] for o in y]"
   ]
  },
  {
   "cell_type": "code",
   "execution_count": 7,
   "metadata": {},
   "outputs": [],
   "source": [
    "# Scale the features\n",
    "scaler = StandardScaler()\n",
    "X = scaler.fit_transform(X)\n",
    "\n",
    "# Split the data into train and test sets\n",
    "X_train, X_test, y_train, y_test = train_test_split(X, y, test_size=0.25, random_state=42)"
   ]
  },
  {
   "cell_type": "code",
   "execution_count": 7,
   "metadata": {},
   "outputs": [
    {
     "name": "stdout",
     "output_type": "stream",
     "text": [
      "Logistic Regression Accuracy: 0.627456117369662\n",
      "[[6513 1974]\n",
      " [3714 3067]]\n",
      "              precision    recall  f1-score   support\n",
      "\n",
      "           0       0.64      0.77      0.70      8487\n",
      "           1       0.61      0.45      0.52      6781\n",
      "\n",
      "    accuracy                           0.63     15268\n",
      "   macro avg       0.62      0.61      0.61     15268\n",
      "weighted avg       0.62      0.63      0.62     15268\n",
      "\n"
     ]
    }
   ],
   "source": [
    "# Logistic Regression\n",
    "log_reg = LogisticRegression(max_iter=1000)\n",
    "\n",
    "# Fit the model\n",
    "log_reg.fit(X_train, y_train)\n",
    "\n",
    "# Predict the labels\n",
    "y_pred_test = log_reg.predict(X_test)\n",
    "\n",
    "# Accuracy score\n",
    "print(f\"Logistic Regression Accuracy: {accuracy_score(y_test, y_pred_test)}\")\n",
    "\n",
    "# Confusion matrix\n",
    "print(confusion_matrix(y_test, y_pred_test))\n",
    "\n",
    "# Classification report\n",
    "print(classification_report(y_test, y_pred_test))"
   ]
  },
  {
   "cell_type": "code",
   "execution_count": 8,
   "metadata": {},
   "outputs": [
    {
     "name": "stdout",
     "output_type": "stream",
     "text": [
      "Random Forest Classifier Accuracy: 0.9834948912758711\n",
      "[[8332  155]\n",
      " [  97 6684]]\n",
      "              precision    recall  f1-score   support\n",
      "\n",
      "           0       0.99      0.98      0.99      8487\n",
      "           1       0.98      0.99      0.98      6781\n",
      "\n",
      "    accuracy                           0.98     15268\n",
      "   macro avg       0.98      0.98      0.98     15268\n",
      "weighted avg       0.98      0.98      0.98     15268\n",
      "\n"
     ]
    }
   ],
   "source": [
    "# Random Forest Classifier\n",
    "rfc = RandomForestClassifier(max_depth=10, n_estimators=100)\n",
    "\n",
    "# Fit the model\n",
    "rfc.fit(X_train, y_train)\n",
    "\n",
    "# Predict the labels\n",
    "y_pred_test = rfc.predict(X_test)\n",
    "\n",
    "# Accuracy score\n",
    "print(f\"Random Forest Classifier Accuracy: {accuracy_score(y_test, y_pred_test)}\")\n",
    "\n",
    "# Confusion matrix\n",
    "print(confusion_matrix(y_test, y_pred_test))\n",
    "\n",
    "# Classification report\n",
    "print(classification_report(y_test, y_pred_test))"
   ]
  },
  {
   "cell_type": "code",
   "execution_count": 9,
   "metadata": {},
   "outputs": [
    {
     "name": "stdout",
     "output_type": "stream",
     "text": [
      "Gradient Boosting Classifier Accuracy: 0.9979696096410794\n",
      "[[8467   20]\n",
      " [  11 6770]]\n",
      "              precision    recall  f1-score   support\n",
      "\n",
      "           0       1.00      1.00      1.00      8487\n",
      "           1       1.00      1.00      1.00      6781\n",
      "\n",
      "    accuracy                           1.00     15268\n",
      "   macro avg       1.00      1.00      1.00     15268\n",
      "weighted avg       1.00      1.00      1.00     15268\n",
      "\n"
     ]
    }
   ],
   "source": [
    "# Gradient Boosting Classifier\n",
    "gbc = GradientBoostingClassifier(max_depth=10, n_estimators=100)\n",
    "\n",
    "# Fit the model\n",
    "gbc.fit(X_train, y_train)\n",
    "\n",
    "# Predict the labels\n",
    "y_pred_test = gbc.predict(X_test)\n",
    "\n",
    "# Accuracy score\n",
    "print(f\"Gradient Boosting Classifier Accuracy: {accuracy_score(y_test, y_pred_test)}\")\n",
    "\n",
    "# Confusion matrix\n",
    "print(confusion_matrix(y_test, y_pred_test))\n",
    "\n",
    "# Classification report\n",
    "print(classification_report(y_test, y_pred_test))"
   ]
  },
  {
   "cell_type": "code",
   "execution_count": 10,
   "metadata": {},
   "outputs": [
    {
     "name": "stdout",
     "output_type": "stream",
     "text": [
      "Naive Bayes Classifier Accuracy: 0.6021744825779408\n",
      "[[5871 2616]\n",
      " [3458 3323]]\n",
      "              precision    recall  f1-score   support\n",
      "\n",
      "           0       0.63      0.69      0.66      8487\n",
      "           1       0.56      0.49      0.52      6781\n",
      "\n",
      "    accuracy                           0.60     15268\n",
      "   macro avg       0.59      0.59      0.59     15268\n",
      "weighted avg       0.60      0.60      0.60     15268\n",
      "\n"
     ]
    }
   ],
   "source": [
    "# Naive Bayes Classifier\n",
    "gnb = GaussianNB()\n",
    "\n",
    "# Fit the model\n",
    "gnb.fit(X_train, y_train)\n",
    "\n",
    "# Predict the labels\n",
    "y_pred_test = gnb.predict(X_test)\n",
    "\n",
    "# Accuracy score\n",
    "print(f\"Naive Bayes Classifier Accuracy: {accuracy_score(y_test, y_pred_test)}\")\n",
    "\n",
    "# Confusion matrix\n",
    "print(confusion_matrix(y_test, y_pred_test))\n",
    "\n",
    "# Classification report\n",
    "print(classification_report(y_test, y_pred_test))"
   ]
  },
  {
   "cell_type": "code",
   "execution_count": 11,
   "metadata": {},
   "outputs": [
    {
     "name": "stdout",
     "output_type": "stream",
     "text": [
      "SVM Classifier Accuracy: 0.936206444851978\n",
      "[[7919  568]\n",
      " [ 406 6375]]\n",
      "              precision    recall  f1-score   support\n",
      "\n",
      "           0       0.95      0.93      0.94      8487\n",
      "           1       0.92      0.94      0.93      6781\n",
      "\n",
      "    accuracy                           0.94     15268\n",
      "   macro avg       0.93      0.94      0.94     15268\n",
      "weighted avg       0.94      0.94      0.94     15268\n",
      "\n"
     ]
    }
   ],
   "source": [
    "# SVM Classifier\n",
    "from sklearn.svm import SVC\n",
    "svc = SVC()\n",
    "\n",
    "# Fit the model\n",
    "svc.fit(X_train, y_train)\n",
    "\n",
    "# Predict the labels\n",
    "y_pred_test = svc.predict(X_test)\n",
    "\n",
    "# Accuracy score\n",
    "print(f\"SVM Classifier Accuracy: {accuracy_score(y_test, y_pred_test)}\")\n",
    "\n",
    "# Confusion matrix\n",
    "print(confusion_matrix(y_test, y_pred_test))\n",
    "\n",
    "# Classification report\n",
    "print(classification_report(y_test, y_pred_test))"
   ]
  },
  {
   "cell_type": "code",
   "execution_count": 12,
   "metadata": {},
   "outputs": [
    {
     "name": "stdout",
     "output_type": "stream",
     "text": [
      "KNN Classifier Accuracy: 0.9974456379355515\n",
      "[[8454   33]\n",
      " [   6 6775]]\n",
      "              precision    recall  f1-score   support\n",
      "\n",
      "           0       1.00      1.00      1.00      8487\n",
      "           1       1.00      1.00      1.00      6781\n",
      "\n",
      "    accuracy                           1.00     15268\n",
      "   macro avg       1.00      1.00      1.00     15268\n",
      "weighted avg       1.00      1.00      1.00     15268\n",
      "\n"
     ]
    }
   ],
   "source": [
    "# K-nearest neighbors classifier\n",
    "from sklearn.neighbors import KNeighborsClassifier\n",
    "\n",
    "knn = KNeighborsClassifier(n_neighbors=5)\n",
    "\n",
    "# Fit the model\n",
    "knn.fit(X_train, y_train)\n",
    "\n",
    "# Predict the labels\n",
    "y_pred_test = knn.predict(X_test)\n",
    "\n",
    "# Accuracy score\n",
    "print(f\"KNN Classifier Accuracy: {accuracy_score(y_test, y_pred_test)}\")\n",
    "\n",
    "# Confusion matrix\n",
    "print(confusion_matrix(y_test, y_pred_test))\n",
    "\n",
    "# Classification report\n",
    "print(classification_report(y_test, y_pred_test))"
   ]
  },
  {
   "cell_type": "markdown",
   "metadata": {},
   "source": [
    "### Principal Component Analysis"
   ]
  },
  {
   "cell_type": "code",
   "execution_count": 10,
   "metadata": {},
   "outputs": [
    {
     "data": {
      "image/png": "[encoded data removed]",
      "text/plain": [
       "<Figure size 432x288 with 1 Axes>"
      ]
     },
     "metadata": {
      "needs_background": "light"
     },
     "output_type": "display_data"
    }
   ],
   "source": [
    "# Import PCA\n",
    "from sklearn.decomposition import PCA\n",
    "\n",
    "# Plot the PCA spectrum\n",
    "pca = PCA().fit(X)\n",
    "\n",
    "# Mark 85% explained variance\n",
    "plt.figure()\n",
    "plt.plot(np.cumsum(pca.explained_variance_ratio_))\n",
    "plt.xlabel('Number of components')\n",
    "plt.ylabel('Cumulative explained variance')\n",
    "plt.show()"
   ]
  },
  {
   "cell_type": "code",
   "execution_count": 11,
   "metadata": {},
   "outputs": [
    {
     "name": "stdout",
     "output_type": "stream",
     "text": [
      "Number of components required to explain 85% of the variance: 8\n"
     ]
    }
   ],
   "source": [
    "# Print number of components required to explain 85% of the variance\n",
    "print(f\"Number of components required to explain 85% of the variance: {np.argmax(np.cumsum(pca.explained_variance_ratio_) >= 0.85) + 1}\")"
   ]
  },
  {
   "cell_type": "code",
   "execution_count": 14,
   "metadata": {},
   "outputs": [],
   "source": [
    "# Take 85% of the variance\n",
    "pca = PCA(0.85)\n",
    "\n",
    "# Fit PCA\n",
    "pca.fit(X)\n",
    "\n",
    "# Transform the data\n",
    "X = pca.transform(X)\n",
    "\n",
    "# Split the data into train and test sets\n",
    "X_train, X_test, y_train, y_test = train_test_split(X, y, test_size=0.25, random_state=42)"
   ]
  },
  {
   "cell_type": "code",
   "execution_count": 15,
   "metadata": {},
   "outputs": [
    {
     "name": "stdout",
     "output_type": "stream",
     "text": [
      "Logistic Regression Accuracy: 0.6261461881058423\n",
      "[[6509 1978]\n",
      " [3730 3051]]\n",
      "              precision    recall  f1-score   support\n",
      "\n",
      "           0       0.64      0.77      0.70      8487\n",
      "           1       0.61      0.45      0.52      6781\n",
      "\n",
      "    accuracy                           0.63     15268\n",
      "   macro avg       0.62      0.61      0.61     15268\n",
      "weighted avg       0.62      0.63      0.62     15268\n",
      "\n"
     ]
    }
   ],
   "source": [
    "# Logistic Regression\n",
    "log_reg_pca = LogisticRegression(max_iter=1000)\n",
    "\n",
    "# Fit the model\n",
    "log_reg_pca.fit(X_train, y_train)\n",
    "\n",
    "# Predict the labels\n",
    "y_pred_test = log_reg_pca.predict(X_test)\n",
    "\n",
    "# Accuracy score\n",
    "print(f\"Logistic Regression Accuracy: {accuracy_score(y_test, y_pred_test)}\")\n",
    "\n",
    "# Confusion matrix\n",
    "print(confusion_matrix(y_test, y_pred_test))\n",
    "\n",
    "# Classification report\n",
    "print(classification_report(y_test, y_pred_test))"
   ]
  },
  {
   "cell_type": "code",
   "execution_count": 16,
   "metadata": {},
   "outputs": [
    {
     "name": "stdout",
     "output_type": "stream",
     "text": [
      "Random Forest Classifier Accuracy: 0.9345690332722033\n",
      "[[8036  451]\n",
      " [ 548 6233]]\n",
      "              precision    recall  f1-score   support\n",
      "\n",
      "           0       0.94      0.95      0.94      8487\n",
      "           1       0.93      0.92      0.93      6781\n",
      "\n",
      "    accuracy                           0.93     15268\n",
      "   macro avg       0.93      0.93      0.93     15268\n",
      "weighted avg       0.93      0.93      0.93     15268\n",
      "\n"
     ]
    }
   ],
   "source": [
    "# Random Forest Classifier\n",
    "rfc_pca = RandomForestClassifier(max_depth=10, n_estimators=100)\n",
    "\n",
    "# Fit the model\n",
    "rfc_pca.fit(X_train, y_train)\n",
    "\n",
    "# Predict the labels\n",
    "y_pred_test = rfc_pca.predict(X_test)\n",
    "\n",
    "# Accuracy score\n",
    "print(f\"Random Forest Classifier Accuracy: {accuracy_score(y_test, y_pred_test)}\")\n",
    "\n",
    "# Confusion matrix\n",
    "print(confusion_matrix(y_test, y_pred_test))\n",
    "\n",
    "# Classification report\n",
    "print(classification_report(y_test, y_pred_test))"
   ]
  },
  {
   "cell_type": "code",
   "execution_count": 17,
   "metadata": {},
   "outputs": [
    {
     "name": "stdout",
     "output_type": "stream",
     "text": [
      "Gradient Boosting Classifier Accuracy: 0.9948912758711029\n",
      "[[8439   48]\n",
      " [  30 6751]]\n",
      "              precision    recall  f1-score   support\n",
      "\n",
      "           0       1.00      0.99      1.00      8487\n",
      "           1       0.99      1.00      0.99      6781\n",
      "\n",
      "    accuracy                           0.99     15268\n",
      "   macro avg       0.99      0.99      0.99     15268\n",
      "weighted avg       0.99      0.99      0.99     15268\n",
      "\n"
     ]
    }
   ],
   "source": [
    "# Gradient Boosting Classifier\n",
    "gbc_pca = GradientBoostingClassifier(max_depth=10, n_estimators=100)\n",
    "\n",
    "# Fit the model\n",
    "gbc_pca.fit(X_train, y_train)\n",
    "\n",
    "# Predict the labels\n",
    "y_pred_test = gbc_pca.predict(X_test)\n",
    "\n",
    "# Accuracy score\n",
    "print(f\"Gradient Boosting Classifier Accuracy: {accuracy_score(y_test, y_pred_test)}\")\n",
    "\n",
    "# Confusion matrix\n",
    "print(confusion_matrix(y_test, y_pred_test))\n",
    "\n",
    "# Classification report\n",
    "print(classification_report(y_test, y_pred_test))"
   ]
  },
  {
   "cell_type": "code",
   "execution_count": 18,
   "metadata": {},
   "outputs": [
    {
     "name": "stdout",
     "output_type": "stream",
     "text": [
      "Naive Bayes Classifier Accuracy: 0.6285040607807179\n",
      "[[6080 2407]\n",
      " [3265 3516]]\n",
      "              precision    recall  f1-score   support\n",
      "\n",
      "           0       0.65      0.72      0.68      8487\n",
      "           1       0.59      0.52      0.55      6781\n",
      "\n",
      "    accuracy                           0.63     15268\n",
      "   macro avg       0.62      0.62      0.62     15268\n",
      "weighted avg       0.63      0.63      0.62     15268\n",
      "\n"
     ]
    }
   ],
   "source": [
    "# Naive Bayes Classifier\n",
    "gnb_pca = GaussianNB()\n",
    "\n",
    "# Fit the model\n",
    "gnb_pca.fit(X_train, y_train)\n",
    "\n",
    "# Predict the labels\n",
    "y_pred_test = gnb_pca.predict(X_test)\n",
    "\n",
    "# Accuracy score\n",
    "print(f\"Naive Bayes Classifier Accuracy: {accuracy_score(y_test, y_pred_test)}\")\n",
    "\n",
    "# Confusion matrix\n",
    "print(confusion_matrix(y_test, y_pred_test))\n",
    "\n",
    "# Classification report\n",
    "print(classification_report(y_test, y_pred_test))"
   ]
  },
  {
   "cell_type": "code",
   "execution_count": 19,
   "metadata": {},
   "outputs": [
    {
     "name": "stdout",
     "output_type": "stream",
     "text": [
      "SVM Classifier Accuracy: 0.9066020434896516\n",
      "[[7662  825]\n",
      " [ 601 6180]]\n",
      "              precision    recall  f1-score   support\n",
      "\n",
      "           0       0.93      0.90      0.91      8487\n",
      "           1       0.88      0.91      0.90      6781\n",
      "\n",
      "    accuracy                           0.91     15268\n",
      "   macro avg       0.90      0.91      0.91     15268\n",
      "weighted avg       0.91      0.91      0.91     15268\n",
      "\n"
     ]
    }
   ],
   "source": [
    "# SVM Classifier\n",
    "svc_pca = SVC()\n",
    "\n",
    "# Fit the model\n",
    "svc_pca.fit(X_train, y_train)\n",
    "\n",
    "# Predict the labels\n",
    "y_pred_test = svc_pca.predict(X_test)\n",
    "\n",
    "# Accuracy score\n",
    "print(f\"SVM Classifier Accuracy: {accuracy_score(y_test, y_pred_test)}\")\n",
    "\n",
    "# Confusion matrix\n",
    "print(confusion_matrix(y_test, y_pred_test))\n",
    "\n",
    "# Classification report\n",
    "print(classification_report(y_test, y_pred_test))"
   ]
  },
  {
   "cell_type": "code",
   "execution_count": 20,
   "metadata": {},
   "outputs": [
    {
     "name": "stdout",
     "output_type": "stream",
     "text": [
      "KNN Classifier Accuracy: 0.9969216662300235\n",
      "[[8450   37]\n",
      " [  10 6771]]\n",
      "              precision    recall  f1-score   support\n",
      "\n",
      "           0       1.00      1.00      1.00      8487\n",
      "           1       0.99      1.00      1.00      6781\n",
      "\n",
      "    accuracy                           1.00     15268\n",
      "   macro avg       1.00      1.00      1.00     15268\n",
      "weighted avg       1.00      1.00      1.00     15268\n",
      "\n"
     ]
    }
   ],
   "source": [
    "# K-nearest neighbors classifier\n",
    "knn_pca = KNeighborsClassifier(n_neighbors=5)\n",
    "\n",
    "# Fit the model\n",
    "knn_pca.fit(X_train, y_train)\n",
    "\n",
    "# Predict the labels\n",
    "y_pred_test = knn_pca.predict(X_test)\n",
    "\n",
    "# Accuracy score\n",
    "print(f\"KNN Classifier Accuracy: {accuracy_score(y_test, y_pred_test)}\")\n",
    "\n",
    "# Confusion matrix\n",
    "print(confusion_matrix(y_test, y_pred_test))\n",
    "\n",
    "# Classification report\n",
    "print(classification_report(y_test, y_pred_test))"
   ]
  }
 ],
 "metadata": {
  "kernelspec": {
   "display_name": "Python 3",
   "language": "python",
   "name": "python3"
  },
  "language_info": {
   "codemirror_mode": {
    "name": "ipython",
    "version": 3
   },
   "file_extension": ".py",
   "mimetype": "text/x-python",
   "name": "python",
   "nbconvert_exporter": "python",
   "pygments_lexer": "ipython3",
   "version": "3.10.0"
  }
 },
 "nbformat": 4,
 "nbformat_minor": 2
}
